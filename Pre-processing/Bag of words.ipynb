{
 "cells": [
  {
   "cell_type": "code",
   "execution_count": 1,
   "id": "fee2e09d",
   "metadata": {},
   "outputs": [],
   "source": [
    "story_corpus = \"\"\"\n",
    "\n",
    "Once upon a time a daughter complained to her father that her life was miserable and that she didn’t know how she was going to make it. She was tired of fighting and struggling all the time. It seemed just as one problem was solved, another one soon followed.\n",
    "\n",
    "Her father, a chef, took her to the kitchen. He filled three pots with water and placed each on a high fire. Once the three pots began to boil, he placed potatoes in one pot, eggs in the second pot, and ground coffee beans in the third pot.\n",
    "\n",
    "He then let them sit and boil, without saying a word to his daughter. The daughter, moaned and impatiently waited, wondering what he was doing.\n",
    "\n",
    "After twenty minutes he turned off the burners. He took the potatoes out of the pot and placed them in a bowl. He pulled the eggs out and placed them in a bowl.\n",
    "\n",
    "He then ladled the coffee out and placed it in a cup. Turning to her he asked. “Daughter, what do you see?”\n",
    "\n",
    "“Potatoes, eggs, and coffee,” she hastily replied.\n",
    "\n",
    "“Look closer,” he said, “and touch the potatoes.” She did and noted that they were soft. He then asked her to take an egg and break it. After pulling off the shell, she observed the hard-boiled egg. Finally, he asked her to sip the coffee. Its rich aroma brought a smile to her face\n",
    "\n",
    "“Father, what does this mean?” she asked.\n",
    "\n",
    "He then explained that the potatoes, the eggs and coffee beans had each faced the same adversity– the boiling water.\n",
    "\n",
    "However, each one reacted differently.\n",
    "\n",
    "The potato went in strong, hard, and unrelenting, but in boiling water, it became soft and weak.\n",
    "\n",
    "The egg was fragile, with the thin outer shell protecting its liquid interior until it was put in the boiling water. Then the inside of the egg became hard.\n",
    "\n",
    "However, the ground coffee beans were unique. After they were exposed to the boiling water, they changed the water and created something new.\n",
    "\n",
    "“Which are you,” he asked his daughter. “When adversity knocks on your door, how do you respond? Are you a potato, an egg, or a coffee bean? “\n",
    "\n",
    "Moral:In life, things happen around us, things happen to us, but the only thing that truly matters is what happens within us.\n",
    "\n",
    "Which one are you?\n",
    "\"\"\""
   ]
  },
  {
   "cell_type": "code",
   "execution_count": 2,
   "id": "b02107ef",
   "metadata": {},
   "outputs": [],
   "source": [
    "import nltk\n",
    "import re\n",
    "from nltk.corpus import stopwords\n",
    "from nltk.stem.porter import PorterStemmer\n",
    "from nltk.stem import WordNetLemmatizer\n"
   ]
  },
  {
   "cell_type": "code",
   "execution_count": 3,
   "id": "59813a06",
   "metadata": {},
   "outputs": [],
   "source": [
    "stemmer = PorterStemmer()\n"
   ]
  },
  {
   "cell_type": "code",
   "execution_count": 4,
   "id": "e75f7ae9",
   "metadata": {},
   "outputs": [],
   "source": [
    "wordnet = WordNetLemmatizer()"
   ]
  },
  {
   "cell_type": "code",
   "execution_count": 7,
   "id": "42c31bbc",
   "metadata": {},
   "outputs": [],
   "source": [
    "sentences = nltk.sent_tokenize(story_corpus)\n"
   ]
  },
  {
   "cell_type": "code",
   "execution_count": 8,
   "id": "f3a963d7",
   "metadata": {},
   "outputs": [],
   "source": [
    "corpus = []"
   ]
  },
  {
   "cell_type": "code",
   "execution_count": 11,
   "id": "19fdbc05",
   "metadata": {},
   "outputs": [],
   "source": [
    "for i in range(len(sentences)):\n",
    "    res = re.sub('[^a-zA-Z]',' ', sentences[i])\n",
    "    res = res.lower()\n",
    "    res = res.split()\n",
    "    res = [stemmer.stem(word) for word in res if not word in set(stopwords.words('english'))]\n",
    "    res = ' '.join(res)\n",
    "    corpus.append(res)"
   ]
  },
  {
   "cell_type": "code",
   "execution_count": 13,
   "id": "29f69c14",
   "metadata": {},
   "outputs": [],
   "source": [
    "from sklearn.feature_extraction.text import CountVectorizer"
   ]
  },
  {
   "cell_type": "code",
   "execution_count": 14,
   "id": "98b374e8",
   "metadata": {},
   "outputs": [],
   "source": [
    "cv = CountVectorizer(max_features = 1500)\n",
    "X = cv.fit_transform(corpus).toarray()"
   ]
  },
  {
   "cell_type": "code",
   "execution_count": 21,
   "id": "25066761",
   "metadata": {},
   "outputs": [
    {
     "data": {
      "text/plain": [
       "1"
      ]
     },
     "execution_count": 21,
     "metadata": {},
     "output_type": "execute_result"
    }
   ],
   "source": [
    "X[0][17]"
   ]
  },
  {
   "cell_type": "code",
   "execution_count": null,
   "id": "5deada3b",
   "metadata": {},
   "outputs": [],
   "source": []
  }
 ],
 "metadata": {
  "kernelspec": {
   "display_name": "Python 3 (ipykernel)",
   "language": "python",
   "name": "python3"
  },
  "language_info": {
   "codemirror_mode": {
    "name": "ipython",
    "version": 3
   },
   "file_extension": ".py",
   "mimetype": "text/x-python",
   "name": "python",
   "nbconvert_exporter": "python",
   "pygments_lexer": "ipython3",
   "version": "3.11.5"
  }
 },
 "nbformat": 4,
 "nbformat_minor": 5
}
