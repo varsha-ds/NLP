{
 "cells": [
  {
   "cell_type": "code",
   "execution_count": 17,
   "id": "a4f9d60b",
   "metadata": {},
   "outputs": [],
   "source": [
    "corpus = \"\"\"Text preprocessing is an essential step in natural language processing (NLP) \n",
    "that involves cleaning and transforming unstructured text data \n",
    "to prepare it for analysis. It include's tokenization, stemming, lemmatization, stop-word removal, and part-of-speech tagging.\"\"\""
   ]
  },
  {
   "cell_type": "code",
   "execution_count": 6,
   "id": "fb241499",
   "metadata": {},
   "outputs": [],
   "source": [
    "#paragraph to sentences\n",
    "from nltk.tokenize import sent_tokenize"
   ]
  },
  {
   "cell_type": "code",
   "execution_count": 7,
   "id": "6a164a42",
   "metadata": {},
   "outputs": [
    {
     "data": {
      "text/plain": [
       "['Text preprocessing is an essential step in natural language processing (NLP) that involves cleaning and transforming unstructured text data to prepare it for analysis.',\n",
       " 'It includes tokenization, stemming, lemmatization, stop-word removal, and part-of-speech tagging.']"
      ]
     },
     "execution_count": 7,
     "metadata": {},
     "output_type": "execute_result"
    }
   ],
   "source": [
    "sent_tokenize(corpus)"
   ]
  },
  {
   "cell_type": "code",
   "execution_count": 8,
   "id": "0c325cb9",
   "metadata": {},
   "outputs": [],
   "source": [
    "#paragraph to words\n",
    "from nltk.tokenize import word_tokenize"
   ]
  },
  {
   "cell_type": "code",
   "execution_count": 9,
   "id": "bcdcc917",
   "metadata": {},
   "outputs": [
    {
     "data": {
      "text/plain": [
       "['Text',\n",
       " 'preprocessing',\n",
       " 'is',\n",
       " 'an',\n",
       " 'essential',\n",
       " 'step',\n",
       " 'in',\n",
       " 'natural',\n",
       " 'language',\n",
       " 'processing',\n",
       " '(',\n",
       " 'NLP',\n",
       " ')',\n",
       " 'that',\n",
       " 'involves',\n",
       " 'cleaning',\n",
       " 'and',\n",
       " 'transforming',\n",
       " 'unstructured',\n",
       " 'text',\n",
       " 'data',\n",
       " 'to',\n",
       " 'prepare',\n",
       " 'it',\n",
       " 'for',\n",
       " 'analysis',\n",
       " '.',\n",
       " 'It',\n",
       " 'includes',\n",
       " 'tokenization',\n",
       " ',',\n",
       " 'stemming',\n",
       " ',',\n",
       " 'lemmatization',\n",
       " ',',\n",
       " 'stop-word',\n",
       " 'removal',\n",
       " ',',\n",
       " 'and',\n",
       " 'part-of-speech',\n",
       " 'tagging',\n",
       " '.']"
      ]
     },
     "execution_count": 9,
     "metadata": {},
     "output_type": "execute_result"
    }
   ],
   "source": [
    "word_tokenize(corpus)"
   ]
  },
  {
   "cell_type": "code",
   "execution_count": 10,
   "id": "47b5198a",
   "metadata": {},
   "outputs": [],
   "source": [
    "#paragraph to words, considering punctuations as words\n",
    "from nltk.tokenize import wordpunct_tokenize"
   ]
  },
  {
   "cell_type": "code",
   "execution_count": 13,
   "id": "7a7bdf4b",
   "metadata": {},
   "outputs": [
    {
     "data": {
      "text/plain": [
       "['Text',\n",
       " 'preprocessing',\n",
       " 'is',\n",
       " 'an',\n",
       " 'essential',\n",
       " 'step',\n",
       " 'in',\n",
       " 'natural',\n",
       " 'language',\n",
       " 'processing',\n",
       " '(',\n",
       " 'NLP',\n",
       " ')',\n",
       " 'that',\n",
       " 'involves',\n",
       " 'cleaning',\n",
       " 'and',\n",
       " 'transforming',\n",
       " 'unstructured',\n",
       " 'text',\n",
       " 'data',\n",
       " 'to',\n",
       " 'prepare',\n",
       " 'it',\n",
       " 'for',\n",
       " 'analysis',\n",
       " '.',\n",
       " 'It',\n",
       " 'includes',\n",
       " 'tokenization',\n",
       " ',',\n",
       " 'stemming',\n",
       " ',',\n",
       " 'lemmatization',\n",
       " ',',\n",
       " 'stop',\n",
       " '-',\n",
       " 'word',\n",
       " 'removal',\n",
       " ',',\n",
       " 'and',\n",
       " 'part',\n",
       " '-',\n",
       " 'of',\n",
       " '-',\n",
       " 'speech',\n",
       " 'tagging',\n",
       " '.']"
      ]
     },
     "execution_count": 13,
     "metadata": {},
     "output_type": "execute_result"
    }
   ],
   "source": [
    "wordpunct_tokenize(corpus)"
   ]
  },
  {
   "cell_type": "code",
   "execution_count": 14,
   "id": "5368bd7c",
   "metadata": {},
   "outputs": [],
   "source": [
    "from nltk.tokenize import TreebankWordTokenizer"
   ]
  },
  {
   "cell_type": "code",
   "execution_count": 15,
   "id": "5acdb147",
   "metadata": {},
   "outputs": [],
   "source": [
    "tokenizer = TreebankWordTokenizer()"
   ]
  },
  {
   "cell_type": "code",
   "execution_count": 18,
   "id": "622eae7a",
   "metadata": {},
   "outputs": [
    {
     "data": {
      "text/plain": [
       "['Text',\n",
       " 'preprocessing',\n",
       " 'is',\n",
       " 'an',\n",
       " 'essential',\n",
       " 'step',\n",
       " 'in',\n",
       " 'natural',\n",
       " 'language',\n",
       " 'processing',\n",
       " '(',\n",
       " 'NLP',\n",
       " ')',\n",
       " 'that',\n",
       " 'involves',\n",
       " 'cleaning',\n",
       " 'and',\n",
       " 'transforming',\n",
       " 'unstructured',\n",
       " 'text',\n",
       " 'data',\n",
       " 'to',\n",
       " 'prepare',\n",
       " 'it',\n",
       " 'for',\n",
       " 'analysis.',\n",
       " 'It',\n",
       " 'include',\n",
       " \"'s\",\n",
       " 'tokenization',\n",
       " ',',\n",
       " 'stemming',\n",
       " ',',\n",
       " 'lemmatization',\n",
       " ',',\n",
       " 'stop-word',\n",
       " 'removal',\n",
       " ',',\n",
       " 'and',\n",
       " 'part-of-speech',\n",
       " 'tagging',\n",
       " '.']"
      ]
     },
     "execution_count": 18,
     "metadata": {},
     "output_type": "execute_result"
    }
   ],
   "source": [
    "tokenizer.tokenize(corpus)"
   ]
  },
  {
   "cell_type": "markdown",
   "id": "84e7c822",
   "metadata": {},
   "source": [
    "include's --> include',\"'s\"\n",
    "\n",
    "...split off commas and single quotes, when followed by whitespace"
   ]
  },
  {
   "cell_type": "code",
   "execution_count": null,
   "id": "8acaea09",
   "metadata": {},
   "outputs": [],
   "source": []
  }
 ],
 "metadata": {
  "kernelspec": {
   "display_name": "Python 3 (ipykernel)",
   "language": "python",
   "name": "python3"
  },
  "language_info": {
   "codemirror_mode": {
    "name": "ipython",
    "version": 3
   },
   "file_extension": ".py",
   "mimetype": "text/x-python",
   "name": "python",
   "nbconvert_exporter": "python",
   "pygments_lexer": "ipython3",
   "version": "3.11.5"
  }
 },
 "nbformat": 4,
 "nbformat_minor": 5
}
